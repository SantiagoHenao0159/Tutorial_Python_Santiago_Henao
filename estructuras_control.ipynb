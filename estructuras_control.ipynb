{
 "cells": [
  {
   "cell_type": "markdown",
   "metadata": {},
   "source": [
    "# Estructuras de Control (if, else, elif)\n",
    "\n",
    "Estas estructuras permiten definir y tomar decisiones basadas en condiciones logicas. Algunas de las estructuras más utilizadas son:\n",
    "\n",
    "- if: Unicamente evalua una condicion, la cual en caso de ser verdadera ejecuta su codigo correspondiente\n",
    "\n",
    "- else: Se suele utilizar luego de la condicion if, en caso de ser falsa la condicion if entra a actuar la condicion else y ejecuta codigo el cual generalmente indica lo que pasa si la primera condicion if es falsa y dicho codigo muestra esta alternativa.\n",
    "\n",
    "- elif: Esta condicion ejecuta un codigo de bloque especifico que corre en caso de que ambas de las condiciones anteriormente mencionadas sean falsas."
   ]
  },
  {
   "cell_type": "code",
   "execution_count": 3,
   "metadata": {},
   "outputs": [],
   "source": [
    "## Estructuras de Control\n",
    "\n",
    "# Inicialmente se declara una variable para luego evaluar una condición \n",
    "luz_encendida = True\n",
    "\n",
    "# Condicional para verificar si la luz esta encendida\n",
    "if luz_encendida == True:\n",
    "    print(\"La luz esta encendida.\")\n"
   ]
  },
  {
   "cell_type": "code",
   "execution_count": 5,
   "metadata": {},
   "outputs": [
    {
     "name": "stdout",
     "output_type": "stream",
     "text": [
      "La luz esta apagada\n"
     ]
    }
   ],
   "source": [
    "luz_encendida = False\n",
    "\n",
    "if luz_encendida == True:\n",
    "    print(\"La luz esta encendida\")\n",
    "    \n",
    "else: \n",
    "    print(\"La luz esta apagada\")\n",
    "    \n",
    "    ## Aqui se evalua una segunda condicion en caso de no cumplirse la condicion if"
   ]
  },
  {
   "cell_type": "code",
   "execution_count": 9,
   "metadata": {},
   "outputs": [
    {
     "name": "stdout",
     "output_type": "stream",
     "text": [
      "Basico\n"
     ]
    }
   ],
   "source": [
    "nota = 3.5\n",
    "\n",
    "if nota <= 2.9:\n",
    "    print(\"Insuficiente\")\n",
    "    \n",
    "elif 3 <= nota < 4.6:\n",
    "    print(\"Basico\")\n",
    "    \n",
    "elif 4 <= nota <= 5:\n",
    "    print (\"Excelente!\")\n",
    "    \n",
    "else: \n",
    "    print(\"No presentó\")\n",
    "    \n",
    "## Gracias a la funcion elif es posible evaluar una cantidad mayor de condiciones, como se puede ver en este ejemplo"
   ]
  },
  {
   "cell_type": "code",
   "execution_count": 13,
   "metadata": {},
   "outputs": [
    {
     "name": "stdout",
     "output_type": "stream",
     "text": [
      "Puedes ingresar.\n"
     ]
    }
   ],
   "source": [
    "# Condicionales Anidados\n",
    "\n",
    "\n",
    "edad = 19\n",
    "tiene_identificacion = True\n",
    "\n",
    "if edad >= 18:\n",
    "    if tiene_identificacion:\n",
    "        print(\"Puedes ingresar.\")\n",
    "    else:\n",
    "        print(\"No puedes ingresar sin identificación.\")\n",
    "else:\n",
    "    print(\"No tienes la edad suficiente para ingresar.\")\n",
    "\n"
   ]
  },
  {
   "cell_type": "code",
   "execution_count": 16,
   "metadata": {},
   "outputs": [
    {
     "name": "stdout",
     "output_type": "stream",
     "text": [
      "Grupos sin reserva favor esperar disponibilidad.\n"
     ]
    }
   ],
   "source": [
    "# Verificación de varias condiciones\n",
    "n_personas_grupo = 5\n",
    "reserva = False\n",
    "\n",
    "if n_personas_grupo < 6 and reserva:\n",
    "    print(\"Mesa disponible.\")\n",
    "elif n_personas_grupo >= 6:\n",
    "    print(\"Reservas maximo 5 personas, por favor esperar.\")\n",
    "else:\n",
    "    print(\"Grupos sin reserva favor esperar disponibilidad.\")\n"
   ]
  },
  {
   "cell_type": "markdown",
   "metadata": {},
   "source": [
    "# Buenas Practicas \n",
    "\n",
    "Algunas de las practicas que simplifican el uso de estas condiciones y hacen de nuestros scripts algo mas agradable a la vista pueden ser:\n",
    "\n",
    "- Evitar usar múltiples if, esto se puede simplificar con elif y else. El uso de elif asegura que solo una condición sea evaluada y ejecutada.\n",
    "- Usar nombres de variables descriptivos para que las condiciones sean más comprensibles.\n",
    "- Demasiados condicionales if anidados pueden dificultar la comprension del codigo. Usar operadores lógicos (and, or, not) puede simplificar su entendimiento.\n"
   ]
  }
 ],
 "metadata": {
  "kernelspec": {
   "display_name": "ciencia_datos",
   "language": "python",
   "name": "python3"
  },
  "language_info": {
   "codemirror_mode": {
    "name": "ipython",
    "version": 3
   },
   "file_extension": ".py",
   "mimetype": "text/x-python",
   "name": "python",
   "nbconvert_exporter": "python",
   "pygments_lexer": "ipython3",
   "version": "3.12.4"
  }
 },
 "nbformat": 4,
 "nbformat_minor": 2
}
