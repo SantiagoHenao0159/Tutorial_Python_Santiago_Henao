{
 "cells": [
  {
   "cell_type": "markdown",
   "metadata": {},
   "source": [
    "# Indexacion de Estructuras de Almacenamiento\n",
    "\n",
    "## - Listas\n",
    "\n",
    "Las listas permiten la indexación directa usando enteros (índices), con un orden establecido que comienza desde el índice 0. Las listas son mutables, por lo que los valores se pueden modificar, agregar o eliminar.\n",
    "\n",
    "## - Tuplas\n",
    "\n",
    "Las tuplas son similares a las listas, pero son inmutables, lo que significa que no se pueden cambiar después de crearse. También admiten la indexación a través de enteros.\n",
    "\n",
    "## - Conjuntos\n",
    "\n",
    "Los conjuntos en Python no permiten el acceso a sus elementos a través de índices, ya que no tienen un orden definido. Sin embargo, puedes iterar sobre un conjunto o convertirlo en una lista para indexarlo.\n",
    "\n",
    "## - Diccionarios \n",
    "Los diccionarios usan claves para acceder a los valores en lugar de índices numéricos. Cada clave en un diccionario es única y debe ser inmutable (cadenas, números, tuplas, etc.)."
   ]
  },
  {
   "cell_type": "code",
   "execution_count": 4,
   "metadata": {},
   "outputs": [
    {
     "name": "stdout",
     "output_type": "stream",
     "text": [
      "Anuel\n",
      "Eladio\n",
      "['Anuel', 'Arcangel', 'Romeo Santos', 'DY', 'Eladio']\n",
      "['Arcangel', 'Romeo Santos', 'DY']\n",
      "['Anuel', 'Maelo Ruiz', 'Jessi Uribe', 'DY', 'Eladio']\n"
     ]
    }
   ],
   "source": [
    "## Indexacion Listas\n",
    "\n",
    "# Crear una lista\n",
    "lista_1 = ['Anuel', 'Arcangel', 'Don Omar', 'DY', 'Eladio']\n",
    "\n",
    "# Acceder al primer elemento (índice 0)\n",
    "print(lista_1[0])  # 'Anuel'\n",
    "\n",
    "# Acceder al último elemento usando índice negativo\n",
    "print(lista_1[-1])  # 'Eladio'\n",
    "\n",
    "# Modificar un elemento\n",
    "lista_1[2] = 'Romeo Santos' #['Anuel', 'Arcangel', 'Romeo Santos', 'DY', 'Eladio']\n",
    "print(lista_1)  # \n",
    "\n",
    "# Slicing (obtener una sublista)\n",
    "sub_lista_1 = lista_1[1:4]  # ['Arcangel', 'Romeo Santos', 'DY'] # No toma el ultimo valor \n",
    "print(sub_lista_1)\n",
    "\n",
    "# Cambiar un rango de valores\n",
    "lista_1[1:3] = ['Maelo Ruiz', 'Jessi Uribe']\n",
    "print(lista_1)  # ['Anuel', 'Maelo Ruiz', 'Jessi Uribe', 'DY', 'Eladio']\n",
    "\n"
   ]
  },
  {
   "cell_type": "code",
   "execution_count": 6,
   "metadata": {},
   "outputs": [
    {
     "name": "stdout",
     "output_type": "stream",
     "text": [
      "100\n",
      "500\n",
      "(200, 300, 400)\n"
     ]
    }
   ],
   "source": [
    "### Indexacion Tuplas\n",
    "\n",
    "# Crear una tupla\n",
    "tupla_1 = (100, 200, 300, 400, 500)\n",
    "\n",
    "# Acceder al primer elemento\n",
    "print(tupla_1[0])  # 100\n",
    "\n",
    "# Acceder al último elemento usando índice negativo\n",
    "print(tupla_1[-1])  # 500\n",
    "\n",
    "# Intentar modificar un elemento genera un error (las tuplas son inmutables)\n",
    "# tupla_1[1] = 250  # Esto generaría un TypeError\n",
    "\n",
    "# Slicing en tuplas (sub-tuplas)\n",
    "sub_tupla = tupla_1[1:4]  # (200, 300, 400)\n",
    "print(sub_tupla)\n"
   ]
  },
  {
   "cell_type": "code",
   "execution_count": 8,
   "metadata": {},
   "outputs": [
    {
     "name": "stdout",
     "output_type": "stream",
     "text": [
      "20\n"
     ]
    }
   ],
   "source": [
    "### Indexacion Conjuntos\n",
    "\n",
    "# Crear un conjunto\n",
    "conjunto_1 = {5, 10, 15, 20, 25}\n",
    "\n",
    "# No se puede acceder por índices\n",
    "# print(conjunto_1[0])  # Esto generaría un TypeError\n",
    "\n",
    "# Convertir el conjunto en lista para acceder a sus elementos\n",
    "lista_conjunto = list(conjunto_1)\n",
    "\n",
    "# Acceder al primer elemento después de convertirlo\n",
    "print(lista_conjunto[0])  # El orden puede no coincidir con el original del conjunto\n"
   ]
  },
  {
   "cell_type": "code",
   "execution_count": 11,
   "metadata": {},
   "outputs": [
    {
     "name": "stdout",
     "output_type": "stream",
     "text": [
      "Santiago\n",
      "{'nombre': 'Santiago', 'edad': 21, 'ciudad': 'Medellin'}\n",
      "{'nombre': 'Santiago', 'edad': 21, 'ciudad': 'Medellin', 'profesion': 'Economista'}\n",
      "1.80\n"
     ]
    }
   ],
   "source": [
    "### Indexacion Diccionarios \n",
    "\n",
    "# Crear un diccionario\n",
    "diccionario_1 = {'nombre': 'Santiago', 'edad': 20, 'ciudad': 'Medellin'}\n",
    "\n",
    "# Acceder a un valor mediante su clave\n",
    "print(diccionario_1['nombre'])  # 'Santiago'\n",
    "\n",
    "# Modificar un valor existente\n",
    "diccionario_1['edad'] = 21\n",
    "print(diccionario_1)  # {'nombre': 'Santiago', 'edad': 21, 'ciudad': 'Medellin'}\n",
    "\n",
    "# Añadir una nueva clave-valor\n",
    "diccionario_1['profesion'] = 'Economista'\n",
    "print(diccionario_1)  # {'nombre': 'Santiago', 'edad': 21, 'ciudad': 'Medellin', 'profesion': 'Economia'}\n",
    "\n",
    "# Acceder de manera segura usando el método get\n",
    "altura = diccionario_1.get('altura', '1.80')\n",
    "print(altura)  # '1.80'\n"
   ]
  }
 ],
 "metadata": {
  "kernelspec": {
   "display_name": "ciencia_datos",
   "language": "python",
   "name": "python3"
  },
  "language_info": {
   "codemirror_mode": {
    "name": "ipython",
    "version": 3
   },
   "file_extension": ".py",
   "mimetype": "text/x-python",
   "name": "python",
   "nbconvert_exporter": "python",
   "pygments_lexer": "ipython3",
   "version": "3.12.4"
  }
 },
 "nbformat": 4,
 "nbformat_minor": 2
}
