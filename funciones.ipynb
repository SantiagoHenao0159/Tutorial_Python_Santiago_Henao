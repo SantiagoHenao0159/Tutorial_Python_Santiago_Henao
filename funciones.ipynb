{
 "cells": [
  {
   "cell_type": "markdown",
   "metadata": {},
   "source": [
    "## Funciones\n",
    "\n",
    "Las funciones en Python son bloques de código reutilizables que se definen utilizando la palabra clave def, seguidas por un nombre de la función, paréntesis y dos puntos. Dentro de la función, se pueden escribir instrucciones que ejecuten una tarea específica."
   ]
  },
  {
   "cell_type": "code",
   "execution_count": 1,
   "metadata": {},
   "outputs": [
    {
     "name": "stdout",
     "output_type": "stream",
     "text": [
      "¡Adiós!\n"
     ]
    }
   ],
   "source": [
    "def despedirse():\n",
    "    print(\"¡Adiós!\")\n",
    "\n",
    "despedirse()  # Llamada a la función\n"
   ]
  },
  {
   "cell_type": "code",
   "execution_count": 2,
   "metadata": {},
   "outputs": [
    {
     "name": "stdout",
     "output_type": "stream",
     "text": [
      "8\n"
     ]
    }
   ],
   "source": [
    "# Funcion con parametros definidos \n",
    "\n",
    "def restar(a, b):\n",
    "    return a - b\n",
    "\n",
    "resultado = restar(15, 7)\n",
    "print(resultado)  # 8\n"
   ]
  },
  {
   "cell_type": "code",
   "execution_count": 3,
   "metadata": {},
   "outputs": [
    {
     "name": "stdout",
     "output_type": "stream",
     "text": [
      "Bienvenido, invitado\n",
      "Bienvenido, Santiago\n"
     ]
    }
   ],
   "source": [
    "def bienvenida(nombre=\"invitado\"):\n",
    "    print(f\"Bienvenido, {nombre}\")\n",
    "\n",
    "bienvenida()  # Hola, invitado\n",
    "bienvenida(\"Santiago\")  # Bienvenido, Santiago\n"
   ]
  },
  {
   "cell_type": "code",
   "execution_count": 4,
   "metadata": {},
   "outputs": [
    {
     "name": "stdout",
     "output_type": "stream",
     "text": [
      "10\n",
      "nombre: Carlos\n",
      "edad: 28\n",
      "ciudad: Quito\n"
     ]
    }
   ],
   "source": [
    "## Parametros Variables\n",
    "\n",
    "# *args permite pasar múltiples argumentos posicionales\n",
    "def suma_total(*args):\n",
    "    return sum(args)\n",
    "\n",
    "resultado = suma_total(1, 2, 3, 4)\n",
    "print(resultado)  # 10\n",
    "\n",
    "# **kwargs permite pasar argumentos nombrados\n",
    "def mostrar_informacion(**kwargs):\n",
    "    for clave, valor in kwargs.items():\n",
    "        print(f\"{clave}: {valor}\")\n",
    "\n",
    "mostrar_informacion(nombre=\"Carlos\", edad=28, ciudad=\"Quito\")\n"
   ]
  },
  {
   "cell_type": "code",
   "execution_count": 5,
   "metadata": {},
   "outputs": [
    {
     "name": "stdout",
     "output_type": "stream",
     "text": [
      "5.0\n"
     ]
    }
   ],
   "source": [
    "# Funciones con Retorno\n",
    "\n",
    "def dividir(x, y):\n",
    "    return x / y\n",
    "\n",
    "resultado = dividir(25, 5)\n",
    "print(resultado)  # 5\n"
   ]
  },
  {
   "cell_type": "code",
   "execution_count": 6,
   "metadata": {},
   "outputs": [
    {
     "name": "stdout",
     "output_type": "stream",
     "text": [
      "27\n",
      "9\n"
     ]
    }
   ],
   "source": [
    "## Funciones con multiples valores \n",
    "\n",
    "def operaciones(a, b):\n",
    "    suma = a + b\n",
    "    resta = a - b\n",
    "    return suma, resta\n",
    "\n",
    "resultado_suma, resultado_resta = operaciones(18, 9)\n",
    "print(resultado_suma)  # 27\n",
    "print(resultado_resta)  # 9\n"
   ]
  },
  {
   "cell_type": "markdown",
   "metadata": {},
   "source": [
    "## Funciones Lambda \n",
    "\n",
    "Las funciones lambda son pequeñas funciones anónimas que pueden tener cualquier número de argumentos, pero solo una expresión. Se utilizan para tareas rápidas que requieren una función simple."
   ]
  },
  {
   "cell_type": "code",
   "execution_count": 7,
   "metadata": {},
   "outputs": [
    {
     "name": "stdout",
     "output_type": "stream",
     "text": [
      "10\n"
     ]
    }
   ],
   "source": [
    "# Función lambda que suma dos números\n",
    "suma = lambda x, y: x + y\n",
    "print(suma(6, 4))  # 10\n"
   ]
  },
  {
   "cell_type": "code",
   "execution_count": 10,
   "metadata": {},
   "outputs": [
    {
     "name": "stdout",
     "output_type": "stream",
     "text": [
      "[2, 4, 6, 8, 10]\n",
      "[1, 4, 9, 16, 25, 36, 49, 64, 81, 100]\n"
     ]
    }
   ],
   "source": [
    "## Uso de Funciones Lambda con filter y map\n",
    "\n",
    "# Filtrar números pares de una lista\n",
    "numeros = [1, 2, 3, 4, 5, 6, 7, 8, 9, 10]\n",
    "pares = list(filter(lambda x: x % 2 == 0, numeros))\n",
    "print(pares)  # [2, 4, 6, 8, 10]\n",
    "\n",
    "# Elevar al cuadrado los números de una lista\n",
    "cuadrados = list(map(lambda x: x ** 2, numeros))\n",
    "print(cuadrados)  # [1, 4, 9, 16, 25, 36, 49, 64, 81, 100]\n"
   ]
  },
  {
   "cell_type": "markdown",
   "metadata": {},
   "source": [
    "## Buenas Practicas\n",
    "\n",
    "-  Usar nombres de funciones descriptivos:\n",
    "El nombre de la función debe describir claramente lo que hace.\n",
    "\n",
    "- Usar return en lugar de imprimir resultados directamente:\n",
    "Si la función necesita devolver un resultado, es mejor usar return para mayor flexibilidad, en lugar de print.\n",
    "\n",
    "- Documentar las funciones:\n",
    "Usar docstrings para describir lo que hace cada función y sus parámetros (a modo de comentarios).\n",
    "\n",
    "- Si la función necesitada es compleja, es mejor usar def para definir una función normal, ya que esto mejora la legibilidad."
   ]
  }
 ],
 "metadata": {
  "kernelspec": {
   "display_name": "ciencia_datos",
   "language": "python",
   "name": "python3"
  },
  "language_info": {
   "codemirror_mode": {
    "name": "ipython",
    "version": 3
   },
   "file_extension": ".py",
   "mimetype": "text/x-python",
   "name": "python",
   "nbconvert_exporter": "python",
   "pygments_lexer": "ipython3",
   "version": "3.12.4"
  }
 },
 "nbformat": 4,
 "nbformat_minor": 2
}
