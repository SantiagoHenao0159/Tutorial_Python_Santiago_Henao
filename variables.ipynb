{
 "cells": [
  {
   "cell_type": "markdown",
   "metadata": {},
   "source": [
    "# Variables \n",
    " Las variables son contenedores de informacion que nos permiten almacenar datos con los cuales podemos operar, analizar y posteriormente concluir y tomar decisiones gracias a los resultados de dicho analisis. Estas variables pueden ser de diferentes tipos y tener diferentes usos como se verá a continuacion con sus definiciones, usos y finalmente ejemplos prácticos."
   ]
  },
  {
   "cell_type": "markdown",
   "metadata": {},
   "source": [
    "## Tipos de Variables \n",
    "Las variables mas utilizadas y las cuales nos permiten entender la naturaleza de las mismas son: \n",
    "\n",
    "- Datos Tipo Entero (int)\n",
    "- Datos Tipo Flotante (float)\n",
    "- Datos Tipo Cadena (str)\n",
    "- Datos Tipo Booleano (True or False)"
   ]
  },
  {
   "cell_type": "markdown",
   "metadata": {},
   "source": [
    "## Tipo Entero\n",
    "Generalmente son datos que contienen unicamente numeros enteros, se usan para definir variables como la edad."
   ]
  },
  {
   "cell_type": "code",
   "execution_count": null,
   "metadata": {},
   "outputs": [],
   "source": [
    "edad = 12\n",
    "# Indica que la edad del individuo es 12, es pertinente este ejemplo puesto\n",
    "# la edad siempre es un numero entero, no contiene décimas."
   ]
  },
  {
   "cell_type": "markdown",
   "metadata": {},
   "source": [
    "## Tipo Flotante\n",
    "Se usa este tipo de datos para aquellas variables que se expresan con numeros decimales, tales como la temperatura, la calificación de un examen o un porcentaje."
   ]
  },
  {
   "cell_type": "code",
   "execution_count": null,
   "metadata": {},
   "outputs": [],
   "source": [
    "nota_examen = 3.6 \n",
    "# Indica que la nota de un examen es 3.6, lo cual nos permite el uso\n",
    "# de variables tipo float ya que dichas calificaciones llevan decimales."
   ]
  },
  {
   "cell_type": "markdown",
   "metadata": {},
   "source": [
    "## Tipo Cadena\n",
    "Se usa principalmente para incluir variables que no lleven necesariamente numeros, sino más bien aquellas variables que contienen texto, tales como el nombre del individuo o una frase en especifico."
   ]
  },
  {
   "cell_type": "code",
   "execution_count": null,
   "metadata": {},
   "outputs": [],
   "source": [
    "nombre_individuo = \"Santiago\"\n",
    "# Tambien se pueden usar las variables str para indicar numeros como texto,\n",
    "# un nombre de usuario que tenga numeros o numeros de identificacion pueden\n",
    "# ser buenos ejemplos \n",
    "\n",
    "id_individuo = \"1025880159\""
   ]
  },
  {
   "cell_type": "markdown",
   "metadata": {},
   "source": [
    "# Tipo Booleano\n",
    "Se usan estas variables para indicar que algo es verdadero o falso, tambien para indicar condiciones, como que el usuario está activo o que una luz esta encendida."
   ]
  },
  {
   "cell_type": "code",
   "execution_count": null,
   "metadata": {},
   "outputs": [],
   "source": [
    "luz_encendida = True \n",
    "# Un ejemplo sencillo puede ser definir y asignar una variable que sea \n",
    "# verdadero para cuando la luz este encendida y sea falso cuando este apagada.\n"
   ]
  },
  {
   "cell_type": "markdown",
   "metadata": {},
   "source": [
    "# Conversión de Datos \n",
    "Tras entender y definir los datos y sus tipos, es importante aclarar que estos datos pueden convertirse a diferentes categorias. Un dato entero se puede convertir a uno flotante, asi mismo como un dato tipo cadena, también un dato booleano se puede convertir para que tome valores de 0 y 1 segun ciertas condiciones."
   ]
  },
  {
   "cell_type": "code",
   "execution_count": 4,
   "metadata": {},
   "outputs": [
    {
     "data": {
      "text/plain": [
       "3"
      ]
     },
     "execution_count": 4,
     "metadata": {},
     "output_type": "execute_result"
    }
   ],
   "source": [
    "entero = 55\n",
    "type (entero)\n",
    "entero_flotante = float(entero)\n",
    "entero_flotante\n",
    "\n",
    "# Se convirtio una variable int a una float \n",
    "\n",
    "flotante = 3.7\n",
    "type (flotante)\n",
    "flotante_entero = int(flotante)\n",
    "flotante_entero\n",
    "\n",
    "# Y viceversa...\n"
   ]
  },
  {
   "cell_type": "code",
   "execution_count": 6,
   "metadata": {},
   "outputs": [
    {
     "data": {
      "text/plain": [
       "0"
      ]
     },
     "execution_count": 6,
     "metadata": {},
     "output_type": "execute_result"
    }
   ],
   "source": [
    "cadena = \"45\"\n",
    "type (cadena)\n",
    "cadena_entero = int(cadena)\n",
    "cadena_entero\n",
    "\n",
    "# De str a int\n",
    "\n",
    "booleano = False\n",
    "booleano_entero = int(booleano)\n",
    "booleano_entero\n",
    "\n",
    "# De variable boolean a int"
   ]
  },
  {
   "cell_type": "markdown",
   "metadata": {},
   "source": [
    "## Buenas Prácticas\n",
    "\n",
    "Algunas de las practicas mas usuales y que nos permiten hacer del uso de python y sus variables algo mas sencillo, pueden llegar a ser utilizar nombres que vayan acorde con la variable que se va a analizar, ademas de que no se recomienda que las variables lleven como nombre algunas de las funciones mas utilizadas (if, for, etc...) Algunas de estas buenas practicas pueden ser:\n",
    "\n",
    " - Usar nombres significativos para las variables.\n",
    " - Uso de minúsculas y guiones bajos para nombrar (snake_case).\n",
    " - Evitar el uso de palabras reservadas.\n",
    " - Evitar el Uso de Variables Globales.\n",
    " - Inicializar Variables antes de usarlas.\n",
    " - No Reutilizar Nombres de Variables en diferentes contextos.\n",
    " - Usar Comentarios Claros.\n",
    " - Usar Constantes para Valores Fijos.\n",
    " - Agrupar Variables Relacionadas en estructuras de datos.\n",
    " - Evitar Números Mágicos.\n",
    " - Consistencia en el Estilo de Nombres.\n",
    " - Limitación del Alcance de las Variables.\n",
    " - Utilizar type hints (sugerencias de tipo)."
   ]
  },
  {
   "cell_type": "code",
   "execution_count": 7,
   "metadata": {},
   "outputs": [
    {
     "name": "stdout",
     "output_type": "stream",
     "text": [
      "Hola! mi nombre es Santiago tengo 20 años y naci en Medellín.\n"
     ]
    }
   ],
   "source": [
    "# Ejemplos\n",
    "\n",
    "nombre = \"Santiago\"\n",
    "edad = 20\n",
    "nacimiento = \"Medellín\"\n",
    "\n",
    "print (f\"Hola! mi nombre es {nombre} \n",
    "        tengo {edad} años y nací en {nacimiento}.\")\n"
   ]
  },
  {
   "cell_type": "code",
   "execution_count": 8,
   "metadata": {},
   "outputs": [
    {
     "name": "stdout",
     "output_type": "stream",
     "text": [
      "La temperatura para la tarde de hoy es aproximadamente de 26°\n"
     ]
    }
   ],
   "source": [
    "temperatura = 26.3\n",
    "temp_aprox = int(temperatura)\n",
    "print (f\"La temperatura para la tarde de hoy es \n",
    "       aproximadamente de {temp_aprox}°\")"
   ]
  }
 ],
 "metadata": {
  "kernelspec": {
   "display_name": "ciencia_datos",
   "language": "python",
   "name": "python3"
  },
  "language_info": {
   "codemirror_mode": {
    "name": "ipython",
    "version": 3
   },
   "file_extension": ".py",
   "mimetype": "text/x-python",
   "name": "python",
   "nbconvert_exporter": "python",
   "pygments_lexer": "ipython3",
   "version": "3.12.4"
  }
 },
 "nbformat": 4,
 "nbformat_minor": 2
}
