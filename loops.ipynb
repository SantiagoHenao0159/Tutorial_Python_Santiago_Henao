{
 "cells": [
  {
   "cell_type": "markdown",
   "metadata": {},
   "source": [
    "# Loops (for, list comprehension)\n",
    "\n",
    "## Bucles For\n",
    "\n",
    "El bucle for en Python se usa para iterar sobre una secuencia (Estructuras básicas de almacenamiento) ejecutando un bloque de código para cada elemento de la secuencia."
   ]
  },
  {
   "cell_type": "code",
   "execution_count": 1,
   "metadata": {},
   "outputs": [
    {
     "name": "stdout",
     "output_type": "stream",
     "text": [
      "Santiago\n",
      "Diego\n",
      "Camila\n"
     ]
    }
   ],
   "source": [
    "# Iterar sobre una lista\n",
    "estudiantes = ['Santiago', 'Diego', 'Camila']\n",
    "\n",
    "for nombre in estudiantes:\n",
    "    print(nombre)\n",
    "\n",
    "# Resultado:\n",
    "# Santiago\n",
    "# Diego\n",
    "# Camila\n"
   ]
  },
  {
   "cell_type": "code",
   "execution_count": 2,
   "metadata": {},
   "outputs": [
    {
     "name": "stdout",
     "output_type": "stream",
     "text": [
      "0\n",
      "1\n",
      "2\n",
      "3\n",
      "4\n",
      "5\n",
      "6\n",
      "7\n",
      "8\n",
      "9\n",
      "10\n",
      "11\n",
      "12\n",
      "13\n",
      "14\n"
     ]
    }
   ],
   "source": [
    "# Usar range() para iterar sobre un rango de números\n",
    "for i in range(15):\n",
    "    print(i)\n",
    "\n",
    "# Resultado:\n",
    "# Se genera la iteración para este rango entre 0 y 15\n"
   ]
  },
  {
   "cell_type": "code",
   "execution_count": 4,
   "metadata": {},
   "outputs": [
    {
     "name": "stdout",
     "output_type": "stream",
     "text": [
      "Nombre Santiago\n",
      "Edad 20\n",
      "Ciudad Medellin\n"
     ]
    }
   ],
   "source": [
    "# Crear un diccionario\n",
    "dicc_1 = {'Nombre': 'Santiago', 'Edad': 20, 'Ciudad': 'Medellin'}\n",
    "\n",
    "# Iterar sobre las claves\n",
    "for clave in dicc_1:\n",
    "    print(clave, dicc_1[clave])\n",
    "\n",
    "# Resultado:\n",
    "# nombre Santiago\n",
    "# edad 20\n",
    "# ciudad Medellin\n"
   ]
  },
  {
   "cell_type": "markdown",
   "metadata": {},
   "source": [
    "## List Comprehension \n",
    "\n",
    "Una comprensión de listas es una forma concisa de crear listas nuevas aplicando una expresión a cada elemento de una secuencia, opcionalmente filtrando los elementos que no cumplen una condición."
   ]
  },
  {
   "cell_type": "code",
   "execution_count": 5,
   "metadata": {},
   "outputs": [
    {
     "name": "stdout",
     "output_type": "stream",
     "text": [
      "[1.0, 1.4142135623730951, 1.7320508075688772, 2.0, 2.23606797749979]\n"
     ]
    }
   ],
   "source": [
    "# Crear una nueva lista con los cuadrados de los números\n",
    "numeros = [1, 2, 3, 4, 5]\n",
    "raiz_cuadrada = [n ** 0.5 for n in numeros]\n",
    "print(raiz_cuadrada)\n",
    "\n",
    "# Resultado: Se genera una nueva lista con las raices cuadradas de los numeros de la lista inicial gracias a la condicion\n",
    "# aplicada \n",
    "\n"
   ]
  },
  {
   "cell_type": "code",
   "execution_count": 6,
   "metadata": {},
   "outputs": [
    {
     "name": "stdout",
     "output_type": "stream",
     "text": [
      "[2, 4, 6, 8, 10]\n"
     ]
    }
   ],
   "source": [
    "# Crear una lista solo con los números pares\n",
    "numeros = [1, 2, 3, 4, 5, 6, 7, 8, 9, 10]\n",
    "pares = [n for n in numeros if n % 2 == 0]\n",
    "print(pares)\n",
    "\n",
    "# Resultado: Unicamente arroja los numeros pares \n"
   ]
  },
  {
   "cell_type": "code",
   "execution_count": 8,
   "metadata": {},
   "outputs": [
    {
     "name": "stdout",
     "output_type": "stream",
     "text": [
      "[('Santiago', 'Manzana'), ('Santiago', 'Piña'), ('Santiago', 'Lulo'), ('Diego', 'Manzana'), ('Diego', 'Piña'), ('Diego', 'Lulo'), ('Juan', 'Manzana'), ('Juan', 'Piña'), ('Juan', 'Lulo')]\n"
     ]
    }
   ],
   "source": [
    "# Crear una lista con las combinaciones de dos listas\n",
    "nombres = ['Santiago', 'Diego', 'Juan']\n",
    "frutas = [\"Manzana\", \"Piña\", \"Lulo\"]\n",
    "combinaciones = [(nombre, fruta) for nombre in nombres for fruta in frutas]\n",
    "print(combinaciones)\n",
    "\n",
    "# Resultado: Itera cada uno de los nombres y lo agrupa con cada fruta \n"
   ]
  },
  {
   "cell_type": "markdown",
   "metadata": {},
   "source": [
    "# Buenas Practicas\n",
    "\n",
    "- Usar for en lugar de while cuando se conozca el número de iteraciones:\n",
    "El bucle for es más adecuado cuando se itera sobre una secuencia conocida o un rango de valores.\n",
    "\n",
    "- Preferir comprensiones de listas cuando sea posible:\n",
    "Las comprensiones de listas son más concisas y, en muchos casos, más eficientes que los bucles for tradicionales.\n",
    "\n",
    "- Usar condicionales en las comprensiones de listas para filtrar:\n",
    "Esto permite crear listas más específicas sin la necesidad de estructuras condicionales adicionales.\n",
    "\n",
    "- Mantener el código claro y legible:\n",
    "Aunque las comprensiones de listas son poderosas, es importante no abusar de ellas en casos donde puedan complicar la legibilidad."
   ]
  }
 ],
 "metadata": {
  "kernelspec": {
   "display_name": "ciencia_datos",
   "language": "python",
   "name": "python3"
  },
  "language_info": {
   "codemirror_mode": {
    "name": "ipython",
    "version": 3
   },
   "file_extension": ".py",
   "mimetype": "text/x-python",
   "name": "python",
   "nbconvert_exporter": "python",
   "pygments_lexer": "ipython3",
   "version": "3.12.4"
  }
 },
 "nbformat": 4,
 "nbformat_minor": 2
}
