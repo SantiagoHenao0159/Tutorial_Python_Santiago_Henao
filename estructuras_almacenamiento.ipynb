{
 "cells": [
  {
   "cell_type": "markdown",
   "metadata": {},
   "source": [
    "# Estructuras Básicas de Almacenamiento\n",
    "\n",
    "Son aquellas estructuras que nos permiten almacenar de una forma mas ordenada los datos segun nuestra conveniencia, estas son fundamentales para el uso de python. Cada una tiene sus ventajas y desventajas por lo que es importante identificar correctamente bajo que concepto se usan.\n",
    "\n",
    "## Tipos de Estructuras\n",
    "\n",
    "- Listas: Son colecciones ordenadas de datos las cuales pueden modificarse en caso de ser necesario, además de permitir elementos duplicados (que en la misma lista haya n veces el mismo numero, nombre, etc...)\n",
    "\n",
    "- Tuplas: Son colecciones ordenadas de datos las cuales son inmutables, es decir, en caso de necesitarse la modificacion de un dato o un valor perteneciente a la colección no es posible realizar cambios en esta.\n",
    "\n",
    "- Conjuntos: Son colecciones que en este caso no son ordenadas, es decir, no se garantiza el orden estricto de los datos, además de no permitir elementos duplicados.\n",
    "\n",
    "- Diccionarios: Son colecciones desordenadas de pares que contienen una clave unica la cual brinda acceso a su acceso correspondiente (Clave: nombre, Valor: \"Santiago\")."
   ]
  },
  {
   "cell_type": "code",
   "execution_count": 2,
   "metadata": {},
   "outputs": [
    {
     "data": {
      "text/plain": [
       "[10, 2, 4, 9, 9]"
      ]
     },
     "execution_count": 2,
     "metadata": {},
     "output_type": "execute_result"
    }
   ],
   "source": [
    "### LISTAS\n",
    "\n",
    "lista_1 = [1,2,2,4,9,9]\n",
    "\n",
    "## Las listas permiten elementos duplicados y se definen con []\n",
    "\n",
    "lista_1[0]\n",
    "lista_1[-1]\n",
    "\n",
    "## Para acceder a un elemento especifico se llama a la lista y con [] el elemento deseado, empezando desde 0\n",
    "## El acceso al ultimo elemento de la lista se da con [-1]\n",
    "\n",
    "# Agregar elementos\n",
    "lista_1.append(6)  # Añade un elemento al final\n",
    "\n",
    "# Eliminar elementos\n",
    "lista_1.remove(2)  # Elimina el primer 2 que encuentre\n",
    "elemento_eliminado = lista_1.pop()  # Elimina y retorna el último elemento\n",
    "\n",
    "# Longitud de la lista\n",
    "longitud = len(lista_1)\n",
    "\n",
    "# Concatenar listas\n",
    "lista_2 = [7, 8, 9]\n",
    "lista_concatenada = lista_1 + lista_2\n",
    "\n",
    "# Reemplazar elementos\n",
    "lista_1[0] = 10  # Cambiar el primer elemento\n",
    "\n",
    "lista_1"
   ]
  },
  {
   "cell_type": "code",
   "execution_count": 3,
   "metadata": {},
   "outputs": [
    {
     "data": {
      "text/plain": [
       "(1, 2, 3, 4, 5)"
      ]
     },
     "execution_count": 3,
     "metadata": {},
     "output_type": "execute_result"
    }
   ],
   "source": [
    "### TUPLAS \n",
    "\n",
    "tupla_1 = (1, 2, 3, 4, 5)\n",
    "\n",
    "## Las tuplas se definen con (), no permiten elementos duplicados y no es posible modificar o reemplazar elementos \n",
    "\n",
    "# Acceder a elementos\n",
    "primer_elemento = tupla_1[0]\n",
    "ultimo_elemento = tupla_1[-1]\n",
    "\n",
    "# Longitud de la tupla\n",
    "longitud = len(tupla_1)\n",
    "\n",
    "# Desempaquetar tupla\n",
    "a, b, c, d, e = tupla_1\n",
    "\n",
    "tupla_1\n"
   ]
  },
  {
   "cell_type": "code",
   "execution_count": 4,
   "metadata": {},
   "outputs": [],
   "source": [
    "### CONJUNTOS\n",
    "\n",
    "conjunto_1 = {\"Santiago\", 35, \"Economía\", True}\n",
    "\n",
    "## Se crean con {} y son colecciones desordenadas \n",
    "\n",
    "# Añadir elementos\n",
    "conjunto_1.add(\"Septimo Semestre\")\n",
    "\n",
    "# Eliminar elementos\n",
    "conjunto_1.remove(True)  # Si el elemento no existe, lanza un error\n",
    "conjunto_1.discard(10)  # Si el elemento no existe, no lanza error\n",
    "\n",
    "# Verificar si un elemento está en el conjunto\n",
    "esta_presente = 4 in conjunto_1\n",
    "\n",
    "# Operaciones de conjuntos\n",
    "conjunto_2 = {\"Thomas\", 35, \"Derecho\", False, 8}\n",
    "union = conjunto_1.union(conjunto_2)  # Unión de conjuntos\n",
    "interseccion = conjunto_1.intersection(conjunto_2)  # Intersección de conjuntos\n",
    "diferencia = conjunto_1.difference(conjunto_2)  # Diferencia de conjuntos\n"
   ]
  },
  {
   "cell_type": "code",
   "execution_count": 6,
   "metadata": {},
   "outputs": [
    {
     "data": {
      "text/plain": [
       "False"
      ]
     },
     "execution_count": 6,
     "metadata": {},
     "output_type": "execute_result"
    }
   ],
   "source": [
    "### DICCIONARIOS\n",
    "\n",
    "dicc_1 = {'universidad':'UNAULA' , 'año_ingreso': '2021-2', 'estrato': '3'}\n",
    "\n",
    "## Se definen igual con {} pero es necesario especificar la clave y su valor correspondiente con :\n",
    "\n",
    "# Acceder a elementos\n",
    "universidad = dicc_1['universidad']  # Accede al valor asociado a la clave 'nombre'\n",
    "\n",
    "# Modificar elementos\n",
    "dicc_1['estrato'] = 4\n",
    "\n",
    "# Añadir nuevos pares clave-valor\n",
    "dicc_1['carrera'] = 'Economia'\n",
    "\n",
    "# Eliminar un elemento\n",
    "del dicc_1['año_ingreso']\n",
    "\n",
    "# Acceder a todas las claves, valores o pares clave-valor\n",
    "claves = dicc_1.keys()\n",
    "valores = dicc_1.values()\n",
    "items = dicc_1.items()  # Retorna pares (clave, valor)\n",
    "\n",
    "# Verificar si una clave está en el diccionario\n",
    "existe = 'edad' in dicc_1\n",
    "existe\n"
   ]
  },
  {
   "cell_type": "markdown",
   "metadata": {},
   "source": [
    "# Buenas Prácticas\n",
    "\n",
    "- Usar listas cuando sea necesaria una colección ordenada y mutable.\n",
    "- Las listas pueden almacenar diferentes tipos de datos, pero es recomendable mantener homogeneidad para mayor claridad.\n",
    "- Usar tuplas cuando sea necesario una colección ordenada y no mutable.\n",
    "- Ideal para datos que no deben cambiar, como coordenadas, configuraciones, etc.\n",
    "- Las tuplas son más rápidas que las listas.\n",
    "- Usar conjuntos cuando sea necesario almacenar elementos únicos.\n",
    "- Ideal para operaciones de pertenencia y manipulación de grandes volúmenes de datos sin duplicados.\n",
    "- Usar diccionarios cuando sea necesaria una relación clave-valor para acceder rápidamente a los datos.\n",
    "- Las claves deben ser únicas y de un tipo inmutable (por ejemplo, cadenas o números)."
   ]
  }
 ],
 "metadata": {
  "kernelspec": {
   "display_name": "ciencia_datos",
   "language": "python",
   "name": "python3"
  },
  "language_info": {
   "codemirror_mode": {
    "name": "ipython",
    "version": 3
   },
   "file_extension": ".py",
   "mimetype": "text/x-python",
   "name": "python",
   "nbconvert_exporter": "python",
   "pygments_lexer": "ipython3",
   "version": "3.12.4"
  }
 },
 "nbformat": 4,
 "nbformat_minor": 2
}
