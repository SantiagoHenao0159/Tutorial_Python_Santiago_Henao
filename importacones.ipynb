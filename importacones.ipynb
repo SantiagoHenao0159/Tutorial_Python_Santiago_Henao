{
 "cells": [
  {
   "cell_type": "markdown",
   "metadata": {},
   "source": [
    "## Importacion del modulo y uso"
   ]
  },
  {
   "cell_type": "code",
   "execution_count": 3,
   "metadata": {},
   "outputs": [
    {
     "name": "stdout",
     "output_type": "stream",
     "text": [
      "La suma de 10 y 5 es: 15\n",
      "La resta de 10 y 5 es: 5\n",
      "La multiplicación de 10 y 5 es: 50\n",
      "La división de 10 y 5 es: 2.0\n",
      "Error: No se puede dividir por cero.\n"
     ]
    }
   ],
   "source": [
    "# importaciones.ipynb\n",
    "\n",
    "# 1. Importar el módulo de operaciones\n",
    "\n",
    "# Necesitamos asegurarnos de que el archivo modulo.py esté en el mismo directorio que este notebook\n",
    "import modulo # Importamos el archivo modulo.py\n",
    "\n",
    "# 2. Definir variables de ejemplo\n",
    "a = 10\n",
    "b = 5\n",
    "\n",
    "# 3. Utilizar las funciones del módulo y mostrar los resultados\n",
    "\n",
    "# Suma\n",
    "resultado_suma = modulo.sumar(a, b)\n",
    "print(f\"La suma de {a} y {b} es: {resultado_suma}\")\n",
    "\n",
    "# Resta\n",
    "resultado_resta = modulo.restar(a, b)\n",
    "print(f\"La resta de {a} y {b} es: {resultado_resta}\")\n",
    "\n",
    "# Multiplicación\n",
    "resultado_multiplicar = modulo.multiplicar(a, b)\n",
    "print(f\"La multiplicación de {a} y {b} es: {resultado_multiplicar}\")\n",
    "\n",
    "# División\n",
    "try:\n",
    "    resultado_dividir = modulo.dividir(a, b)\n",
    "    print(f\"La división de {a} y {b} es: {resultado_dividir}\")\n",
    "except ValueError as e:\n",
    "    print(e)\n",
    "\n",
    "# 4. Probar división por cero\n",
    "try:\n",
    "    resultado_dividir_cero = modulo.dividir(a, 0)\n",
    "    print(f\"La división de {a} y 0 es: {resultado_dividir_cero}\")\n",
    "except ValueError as e:\n",
    "    print(f\"Error: {e}\")\n"
   ]
  }
 ],
 "metadata": {
  "kernelspec": {
   "display_name": "ciencia_datos",
   "language": "python",
   "name": "python3"
  },
  "language_info": {
   "codemirror_mode": {
    "name": "ipython",
    "version": 3
   },
   "file_extension": ".py",
   "mimetype": "text/x-python",
   "name": "python",
   "nbconvert_exporter": "python",
   "pygments_lexer": "ipython3",
   "version": "3.12.4"
  }
 },
 "nbformat": 4,
 "nbformat_minor": 2
}
